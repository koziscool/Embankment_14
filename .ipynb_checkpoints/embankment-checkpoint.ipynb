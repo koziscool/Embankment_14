{
 "cells": [
  {
   "cell_type": "code",
   "execution_count": 7,
   "id": "fdb2323a",
   "metadata": {},
   "outputs": [],
   "source": [
    "using namespace std;"
   ]
  },
  {
   "cell_type": "code",
   "execution_count": 6,
   "id": "6b2ecdda",
   "metadata": {},
   "outputs": [],
   "source": [
    "#include <iostream>\n",
    "#include <chrono>\n",
    "#include <ctime>\n",
    "#include <cmath>\n",
    "#include <utility>\n",
    "#include <vector>"
   ]
  },
  {
   "cell_type": "code",
   "execution_count": 8,
   "id": "78c8bc6e",
   "metadata": {},
   "outputs": [
    {
     "name": "stderr",
     "output_type": "stream",
     "text": [
      "\u001b[1minput_line_14:5:48: \u001b[0m\u001b[0;1;31merror: \u001b[0m\u001b[1mfunction definition is not allowed here\u001b[0m\n",
      " vector<long int> Eratosthenes(long int limit) {\n",
      "\u001b[0;1;32m                                               ^\n",
      "\u001b[0m"
     ]
    },
    {
     "ename": "Interpreter Error",
     "evalue": "",
     "output_type": "error",
     "traceback": [
      "Interpreter Error: "
     ]
    }
   ],
   "source": [
    "\n",
    "int f(int x){\n",
    "    return 9;\n",
    "}\n",
    "\n",
    "vector<long int> Eratosthenes(long int limit){\n",
    "    vector<bool> primeArray(limit, true);\n",
    "    for( long int p = 2; p < sqrt(limit); p++){\n",
    "        if( primeArray[p]){\n",
    "            for(long int m = p*p; m < limit; m += 2 * p)\n",
    "                primeArray[m] = false;\n",
    "        }\n",
    "    }\n",
    "    vector<long int> primes(1,2);\n",
    "    for(long int j = 3; j < limit; j ++ 2 ){\n",
    "        if (primeArray[j])\n",
    "            primes.push_back(j);\n",
    "    }\n",
    "    return primes;\n",
    "}"
   ]
  },
  {
   "cell_type": "code",
   "execution_count": null,
   "id": "82b47131",
   "metadata": {},
   "outputs": [],
   "source": [
    "int e1(int limit){\n",
    "    int total = 0;\n",
    "    for( int i = 1; i < limit; i++ ){\n",
    "        if( i % 3 == 0 || i % 5 == 0 )\n",
    "            total += i;\n",
    "    }\n",
    "    \n",
    "    return total;\n",
    "}"
   ]
  },
  {
   "cell_type": "code",
   "execution_count": null,
   "id": "55ba8ff3",
   "metadata": {},
   "outputs": [],
   "source": [
    "int e2(int limit){\n",
    "    int total = 0;\n",
    "    pair<int, int> f(1,2);\n",
    "    \n",
    "    while (f.second <= limit){\n",
    "        if(f.second % 2 == 0)\n",
    "            total += f.second;\n",
    "        f = { f.second, f.first + f.second };\n",
    "    }\n",
    "    \n",
    "    return total;\n",
    "}"
   ]
  },
  {
   "cell_type": "code",
   "execution_count": null,
   "id": "d5c7d4e6",
   "metadata": {},
   "outputs": [],
   "source": [
    "\n",
    "time_t start = time(NULL);\n",
    "\n",
    "cout << \"e1:   \" << e1(1000) << endl;\n",
    "cout << \"e2:   \" << e2(4 * pow(10,6)) << endl;\n",
    "\n",
    "time_t finish = time(NULL);\n",
    "\n",
    "cout << endl;\n",
    "cout << \"all completed problems: \"<<finish - start << \" seconds elapsed\" << endl;\n"
   ]
  },
  {
   "cell_type": "code",
   "execution_count": null,
   "id": "73061cd8",
   "metadata": {},
   "outputs": [],
   "source": []
  }
 ],
 "metadata": {
  "kernelspec": {
   "display_name": "C++17",
   "language": "C++17",
   "name": "xcpp17"
  },
  "language_info": {
   "codemirror_mode": "text/x-c++src",
   "file_extension": ".cpp",
   "mimetype": "text/x-c++src",
   "name": "c++",
   "version": "17"
  }
 },
 "nbformat": 4,
 "nbformat_minor": 5
}
