{
 "cells": [
  {
   "cell_type": "code",
   "execution_count": 1,
   "id": "08660936",
   "metadata": {},
   "outputs": [],
   "source": [
    "using namespace std;"
   ]
  },
  {
   "cell_type": "code",
   "execution_count": 2,
   "id": "b1ff2b67",
   "metadata": {},
   "outputs": [],
   "source": [
    "#include <iostream>\n",
    "#include <chrono>\n",
    "#include <ctime>\n",
    "#include <cmath>\n",
    "#include <utility>\n",
    "#include <vector>"
   ]
  },
  {
   "cell_type": "code",
   "execution_count": 3,
   "id": "f76ea762",
   "metadata": {},
   "outputs": [],
   "source": [
    "void printVector(vector<long int> a){\n",
    "\n",
    "    for( long int i = 0; i < a.size(); i++){\n",
    "        cout << a[i] << \" \";\n",
    "    }\n",
    "    cout << endl;\n",
    "}"
   ]
  },
  {
   "cell_type": "code",
   "execution_count": 4,
   "id": "ac4b52fc",
   "metadata": {},
   "outputs": [],
   "source": [
    "\n",
    "void Eratosthenes(vector<long int>* primes, long int limit){\n",
    "    vector<bool> primeArray(limit, true);\n",
    "    for( long int p = 2; p < sqrt(limit); p++){\n",
    "        if( primeArray[p]){\n",
    "            for(long int m = p*p; m < limit; m += 2 * p)\n",
    "                primeArray[m] = false;\n",
    "        }\n",
    "    }\n",
    "\n",
    "    primes->push_back(2);\n",
    "    for( long int j = 3; j < limit; j += 2 ){\n",
    "        if (primeArray[j])\n",
    "            primes->push_back(j);\n",
    "    }\n",
    "}"
   ]
  },
  {
   "cell_type": "code",
   "execution_count": 5,
   "id": "7d167e1a",
   "metadata": {},
   "outputs": [],
   "source": [
    "int e1(int limit){\n",
    "    int total = 0;\n",
    "    for( int i = 1; i < limit; i++ ){\n",
    "        if( i % 3 == 0 || i % 5 == 0 )\n",
    "            total += i;\n",
    "    }\n",
    "    \n",
    "    return total;\n",
    "}"
   ]
  },
  {
   "cell_type": "code",
   "execution_count": 6,
   "id": "acd04e48",
   "metadata": {},
   "outputs": [],
   "source": [
    "int e2(int limit){\n",
    "    int total = 0;\n",
    "    pair<int, int> f(1,2);\n",
    "    \n",
    "    while (f.second <= limit){\n",
    "        if(f.second % 2 == 0)\n",
    "            total += f.second;\n",
    "        f = { f.second, f.first + f.second };\n",
    "    }\n",
    "    \n",
    "    return total;\n",
    "}"
   ]
  },
  {
   "cell_type": "code",
   "execution_count": 7,
   "id": "ff15fd8e",
   "metadata": {},
   "outputs": [],
   "source": [
    "int e7(vector<long int>* primes, int limit){\n",
    "    return primes->at(limit-1);\n",
    "}"
   ]
  },
  {
   "cell_type": "code",
   "execution_count": 8,
   "id": "ec166302",
   "metadata": {},
   "outputs": [
    {
     "name": "stderr",
     "output_type": "stream",
     "text": [
      "\u001b[1minput_line_14:2:51: \u001b[0m\u001b[0;1;31merror: \u001b[0m\u001b[1mfunction definition is not allowed here\u001b[0m\n",
      " long int e10(vector<long int>* primes, int limit){\n",
      "\u001b[0;1;32m                                                  ^\n",
      "\u001b[0m"
     ]
    },
    {
     "ename": "Interpreter Error",
     "evalue": "",
     "output_type": "error",
     "traceback": [
      "Interpreter Error: "
     ]
    }
   ],
   "source": [
    "long int e10(vector<long int>* primes, int limit){\n",
    "    long int total = 0;\n",
    "    vector<long int>::iterator: i = primes->begin();\n",
    "    while( *i < limit ){\n",
    "        total += *i;\n",
    "        i++;\n",
    "    } \n",
    "    return total;\n",
    "}"
   ]
  },
  {
   "cell_type": "code",
   "execution_count": null,
   "id": "fcd6d68d",
   "metadata": {},
   "outputs": [],
   "source": [
    "\n",
    "time_t start = time(NULL);\n",
    "\n",
    "vector<long int> little_primes;\n",
    "Eratosthenes(&little_primes, 100);\n",
    "\n",
    "vector<long int> primes;\n",
    "Eratosthenes(&primes, pow(10, 7));\n",
    "\n",
    "cout << \"e1:     \" << e1(1000) << endl;\n",
    "cout << \"e2:     \" << e2(4 * pow(10,6)) << endl;\n",
    "cout << \"e7:     \" << e7(&primes, 10001) << endl;\n",
    "// cout << \"e10:    \" << e10(&primes, 2 * pow(10,6)) << endl;\n",
    "\n",
    "time_t finish = time(NULL);\n",
    "\n",
    "cout << endl;\n",
    "cout << \"all completed problems: \"<<finish - start << \" seconds elapsed\" << endl;\n"
   ]
  },
  {
   "cell_type": "code",
   "execution_count": null,
   "id": "c7e7c7ee",
   "metadata": {},
   "outputs": [],
   "source": []
  }
 ],
 "metadata": {
  "kernelspec": {
   "display_name": "C++17",
   "language": "C++17",
   "name": "xcpp17"
  },
  "language_info": {
   "codemirror_mode": "text/x-c++src",
   "file_extension": ".cpp",
   "mimetype": "text/x-c++src",
   "name": "c++",
   "version": "17"
  }
 },
 "nbformat": 4,
 "nbformat_minor": 5
}
