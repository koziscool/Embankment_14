{
 "cells": [
  {
   "cell_type": "code",
   "execution_count": 1,
   "id": "3a5fab15",
   "metadata": {},
   "outputs": [],
   "source": [
    "using namespace std;"
   ]
  },
  {
   "cell_type": "code",
   "execution_count": 2,
   "id": "0686ac83",
   "metadata": {},
   "outputs": [],
   "source": [
    "#include <iostream>\n",
    "#include <chrono>\n",
    "#include <ctime>\n",
    "#include <cmath>\n",
    "#include <utility>"
   ]
  },
  {
   "cell_type": "code",
   "execution_count": 3,
   "id": "c35b61d5",
   "metadata": {},
   "outputs": [],
   "source": [
    "int e1(int limit){\n",
    "    int total = 0;\n",
    "    for( int i = 1; i < limit; i++ ){\n",
    "        if( i % 3 == 0 || i % 5 == 0 )\n",
    "            total += i;\n",
    "    }\n",
    "    \n",
    "    return total;\n",
    "}"
   ]
  },
  {
   "cell_type": "code",
   "execution_count": 4,
   "id": "1051556a",
   "metadata": {},
   "outputs": [],
   "source": [
    "int e2(int limit){\n",
    "    int total = 0;\n",
    "    pair<int, int> f(1,2);\n",
    "    \n",
    "    while (f.second <= limit){\n",
    "        if(f.second % 2 == 0)\n",
    "            total += f.second;\n",
    "        f = { f.second, f.first + f.second };\n",
    "    }\n",
    "    \n",
    "    return total;\n",
    "}"
   ]
  },
  {
   "cell_type": "code",
   "execution_count": 5,
   "id": "a625e7bc",
   "metadata": {},
   "outputs": [
    {
     "name": "stdout",
     "output_type": "stream",
     "text": [
      "e1:   233168\n",
      "e2:   1006086444\n",
      "\n",
      "all completed problems: 0 seconds elapsed\n"
     ]
    }
   ],
   "source": [
    "\n",
    "time_t start = time(NULL);\n",
    "\n",
    "cout << \"e1:   \" << e1(1000) << endl;\n",
    "cout << \"e2:   \" << e1(4 * pow(1) << endl;\n",
    "\n",
    "time_t finish = time(NULL);\n",
    "\n",
    "cout << endl;\n",
    "cout << \"all completed problems: \"<<finish - start << \" seconds elapsed\" << endl;\n"
   ]
  },
  {
   "cell_type": "code",
   "execution_count": null,
   "id": "fcbf3d79",
   "metadata": {},
   "outputs": [],
   "source": []
  }
 ],
 "metadata": {
  "kernelspec": {
   "display_name": "C++17",
   "language": "C++17",
   "name": "xcpp17"
  },
  "language_info": {
   "codemirror_mode": "text/x-c++src",
   "file_extension": ".cpp",
   "mimetype": "text/x-c++src",
   "name": "c++",
   "version": "17"
  }
 },
 "nbformat": 4,
 "nbformat_minor": 5
}
