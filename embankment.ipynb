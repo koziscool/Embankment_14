{
 "cells": [
  {
   "cell_type": "code",
   "execution_count": 1,
   "id": "ab863936",
   "metadata": {},
   "outputs": [],
   "source": [
    "using namespace std;"
   ]
  },
  {
   "cell_type": "code",
   "execution_count": 2,
   "id": "739f6a94",
   "metadata": {},
   "outputs": [],
   "source": [
    "#include <iostream>\n",
    "#include <chrono>\n",
    "#include <ctime>\n",
    "#include <cmath>\n",
    "#include <utility>\n",
    "#include <vector>"
   ]
  },
  {
   "cell_type": "code",
   "execution_count": 3,
   "id": "80108fba",
   "metadata": {},
   "outputs": [],
   "source": [
    "void printVector(vector<long int> a){\n",
    "\n",
    "    for( long int i = 0; i < a.size(); i++){\n",
    "        cout << a[i] << \" \";\n",
    "    }\n",
    "    cout << endl;\n",
    "}"
   ]
  },
  {
   "cell_type": "code",
   "execution_count": 4,
   "id": "7d8960bb",
   "metadata": {},
   "outputs": [],
   "source": [
    "\n",
    "void Eratosthenes(vector<long int>* primes, long int limit){\n",
    "    vector<bool> primeArray(limit, true);\n",
    "    for( long int p = 2; p < sqrt(limit); p++){\n",
    "        if( primeArray[p]){\n",
    "            for(long int m = p*p; m < limit; m += 2 * p)\n",
    "                primeArray[m] = false;\n",
    "        }\n",
    "    }\n",
    "\n",
    "    primes->push_back(2);\n",
    "    for( long int j = 3; j < limit; j += 2 ){\n",
    "        if (primeArray[j])\n",
    "            primes->push_back(j);\n",
    "    }\n",
    "}"
   ]
  },
  {
   "cell_type": "code",
   "execution_count": 5,
   "id": "0ac9a3ac",
   "metadata": {},
   "outputs": [],
   "source": [
    "int e1(int limit){\n",
    "    int total = 0;\n",
    "    for( int i = 1; i < limit; i++ ){\n",
    "        if( i % 3 == 0 || i % 5 == 0 )\n",
    "            total += i;\n",
    "    }\n",
    "    \n",
    "    return total;\n",
    "}"
   ]
  },
  {
   "cell_type": "code",
   "execution_count": 6,
   "id": "339be16c",
   "metadata": {},
   "outputs": [],
   "source": [
    "int e2(int limit){\n",
    "    int total = 0;\n",
    "    pair<int, int> f(1,2);\n",
    "    \n",
    "    while (f.second <= limit){\n",
    "        if(f.second % 2 == 0)\n",
    "            total += f.second;\n",
    "        f = { f.second, f.first + f.second };\n",
    "    }\n",
    "    \n",
    "    return total;\n",
    "}"
   ]
  },
  {
   "cell_type": "code",
   "execution_count": 7,
   "id": "5a4090db",
   "metadata": {},
   "outputs": [],
   "source": [
    "int e7(vector<long int>* primes, int limit){\n",
    "    return primes->at(limit-1);\n",
    "}"
   ]
  },
  {
   "cell_type": "code",
   "execution_count": 8,
   "id": "4ca19e64",
   "metadata": {},
   "outputs": [
    {
     "name": "stdout",
     "output_type": "stream",
     "text": [
      "e1:   233168\n",
      "e2:   4613732\n",
      "e7:   104743\n",
      "\n",
      "all completed problems: 1 seconds elapsed\n"
     ]
    }
   ],
   "source": [
    "\n",
    "time_t start = time(NULL);\n",
    "\n",
    "vector<long int> little_primes;\n",
    "Eratosthenes(&little_primes, 100);\n",
    "\n",
    "vector<long int> primes;\n",
    "Eratosthenes(&primes, pow(10, 7));\n",
    "\n",
    "cout << \"e1:   \" << e1(1000) << endl;\n",
    "cout << \"e2:   \" << e2(4 * pow(10,6)) << endl;\n",
    "cout << \"e7:   \" << e7(&primes, 10001) << endl;\n",
    "\n",
    "time_t finish = time(NULL);\n",
    "\n",
    "cout << endl;\n",
    "cout << \"all completed problems: \"<<finish - start << \" seconds elapsed\" << endl;\n"
   ]
  },
  {
   "cell_type": "code",
   "execution_count": null,
   "id": "741f30f6",
   "metadata": {},
   "outputs": [],
   "source": []
  }
 ],
 "metadata": {
  "kernelspec": {
   "display_name": "C++17",
   "language": "C++17",
   "name": "xcpp17"
  },
  "language_info": {
   "codemirror_mode": "text/x-c++src",
   "file_extension": ".cpp",
   "mimetype": "text/x-c++src",
   "name": "c++",
   "version": "17"
  }
 },
 "nbformat": 4,
 "nbformat_minor": 5
}
