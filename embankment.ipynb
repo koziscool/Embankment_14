{
 "cells": [
  {
   "cell_type": "code",
   "execution_count": 1,
   "id": "001dbee2",
   "metadata": {},
   "outputs": [],
   "source": [
    "using namespace std;"
   ]
  },
  {
   "cell_type": "code",
   "execution_count": 9,
   "id": "76d21af7",
   "metadata": {},
   "outputs": [],
   "source": [
    "#include <iostream>\n",
    "#include <chrono>\n",
    "#include <ctime>\n",
    "#include <cmath>\n",
    "#include <utility>\n",
    "#include <vector>\n",
    "#include <fstream>\n",
    "#include <string>"
   ]
  },
  {
   "cell_type": "code",
   "execution_count": 3,
   "id": "ebaccf96",
   "metadata": {},
   "outputs": [],
   "source": [
    "void printVector(vector<long int> a){\n",
    "\n",
    "    for( long int i = 0; i < a.size(); i++){\n",
    "        cout << a[i] << \" \";\n",
    "    }\n",
    "    cout << endl;\n",
    "}"
   ]
  },
  {
   "cell_type": "code",
   "execution_count": 4,
   "id": "a7be1225",
   "metadata": {},
   "outputs": [],
   "source": [
    "\n",
    "void Eratosthenes(vector<long int>* primes, long int limit){\n",
    "    vector<bool> primeArray(limit, true);\n",
    "    for( long int p = 2; p < sqrt(limit); p++){\n",
    "        if( primeArray[p]){\n",
    "            for(long int m = p*p; m < limit; m += 2 * p)\n",
    "                primeArray[m] = false;\n",
    "        }\n",
    "    }\n",
    "\n",
    "    primes->push_back(2);\n",
    "    for( long int j = 3; j < limit; j += 2 ){\n",
    "        if (primeArray[j])\n",
    "            primes->push_back(j);\n",
    "    }\n",
    "}"
   ]
  },
  {
   "cell_type": "code",
   "execution_count": 5,
   "id": "0377ce85",
   "metadata": {},
   "outputs": [],
   "source": [
    "int e1(int limit){\n",
    "    int total = 0;\n",
    "    for( int i = 1; i < limit; i++ ){\n",
    "        if( i % 3 == 0 || i % 5 == 0 )\n",
    "            total += i;\n",
    "    }\n",
    "    \n",
    "    return total;\n",
    "}"
   ]
  },
  {
   "cell_type": "code",
   "execution_count": 6,
   "id": "0e3e4d59",
   "metadata": {},
   "outputs": [],
   "source": [
    "int e2(int limit){\n",
    "    int total = 0;\n",
    "    pair<int, int> f(1,2);\n",
    "    \n",
    "    while (f.second <= limit){\n",
    "        if(f.second % 2 == 0)\n",
    "            total += f.second;\n",
    "        f = { f.second, f.first + f.second };\n",
    "    }\n",
    "    \n",
    "    return total;\n",
    "}"
   ]
  },
  {
   "cell_type": "code",
   "execution_count": 7,
   "id": "d4ae881c",
   "metadata": {},
   "outputs": [],
   "source": [
    "int e7(vector<long int>* primes, int limit){\n",
    "    return primes->at(limit-1);\n",
    "}"
   ]
  },
  {
   "cell_type": "code",
   "execution_count": 8,
   "id": "7af068da",
   "metadata": {},
   "outputs": [
    {
     "name": "stderr",
     "output_type": "stream",
     "text": [
      "\u001b[1minput_line_14:2:51: \u001b[0m\u001b[0;1;31merror: \u001b[0m\u001b[1mfunction definition is not allowed here\u001b[0m\n",
      " long int e10(vector<long int>* primes, int limit){\n",
      "\u001b[0;1;32m                                                  ^\n",
      "\u001b[0m"
     ]
    },
    {
     "ename": "Interpreter Error",
     "evalue": "",
     "output_type": "error",
     "traceback": [
      "Interpreter Error: "
     ]
    }
   ],
   "source": [
    "// long int e10(vector<long int>* primes, int limit){\n",
    "//     long int total = 0;\n",
    "//     vector<long int>::iterator: i = primes->begin();\n",
    "//     while( *i < limit ){\n",
    "//         total += *i;\n",
    "//         i++;\n",
    "//     } \n",
    "//     return total;\n",
    "// }"
   ]
  },
  {
   "cell_type": "code",
   "execution_count": 12,
   "id": "da8a3a42",
   "metadata": {},
   "outputs": [
    {
     "name": "stdout",
     "output_type": "stream",
     "text": [
      "7316717653133062491922511967442657474235534919493496983520312774506326239578318016984801869478851843858615607891129494954595017379583319528532088055111254069874715852386305071569329096329522744304355766896648950445244523161731856403098711121722383113622298934233803081353362766142828064444866452387493035890729629049156044077239071381051585930796086670172427121883998797908792274921901699720888093776657273330010533678812202354218097512545405947522435258490771167055601360483958644670632441572215539753697817977846174064955149290862569321978468622482839722413756570560574902614079729686524145351004748216637048440319989000889524345065854122758866688116427171479924442928230863465674813919123162824586178664583591245665294765456828489128831426076900422421902267105562632111110937054421750694165896040807198403850962455444362981230987879927244284909188845801561660979191338754992005240636899125607176060588611646710940507754100225698315520005593572972571636269561882670428252483600823257530420752963450\n"
     ]
    }
   ],
   "source": [
    "ifstream file(\"e8data.txt\");\n",
    "string str, total_str = \"\"; \n",
    "while (getline(file, str))\n",
    "{\n",
    "    total_str += str;\n",
    "}\n",
    "cout << total_str << endl;"
   ]
  },
  {
   "cell_type": "code",
   "execution_count": null,
   "id": "5c41caa1",
   "metadata": {},
   "outputs": [],
   "source": [
    "\n",
    "time_t start = time(NULL);\n",
    "\n",
    "vector<long int> little_primes;\n",
    "Eratosthenes(&little_primes, 100);\n",
    "\n",
    "vector<long int> primes;\n",
    "Eratosthenes(&primes, pow(10, 7));\n",
    "\n",
    "cout << \"e1:     \" << e1(1000) << endl;\n",
    "cout << \"e2:     \" << e2(4 * pow(10,6)) << endl;\n",
    "cout << \"e7:     \" << e7(&primes, 10001) << endl;\n",
    "// cout << \"e10:    \" << e10(&primes, 2 * pow(10,6)) << endl;\n",
    "\n",
    "time_t finish = time(NULL);\n",
    "\n",
    "cout << endl;\n",
    "cout << \"all completed problems: \"<<finish - start << \" seconds elapsed\" << endl;\n"
   ]
  },
  {
   "cell_type": "code",
   "execution_count": null,
   "id": "48381051",
   "metadata": {},
   "outputs": [],
   "source": []
  }
 ],
 "metadata": {
  "kernelspec": {
   "display_name": "C++17",
   "language": "C++17",
   "name": "xcpp17"
  },
  "language_info": {
   "codemirror_mode": "text/x-c++src",
   "file_extension": ".cpp",
   "mimetype": "text/x-c++src",
   "name": "c++",
   "version": "17"
  }
 },
 "nbformat": 4,
 "nbformat_minor": 5
}
